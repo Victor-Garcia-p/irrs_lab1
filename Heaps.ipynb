{
 "cells": [
  {
   "cell_type": "code",
   "execution_count": 1,
   "metadata": {},
   "outputs": [],
   "source": [
    "import pandas as pd\n",
    "import os\n",
    "from scipy.optimize import curve_fit\n",
    "import numpy as np"
   ]
  },
  {
   "cell_type": "code",
   "execution_count": 2,
   "metadata": {},
   "outputs": [],
   "source": [
    "data_path = os.path.join(os.getcwd(), \"data\", \"word_counts_news_clean.txt\")\n",
    "\n",
    "# Assuming your data is in a CSV file with 'word' and 'count' columns\n",
    "data = pd.read_csv(data_path, names=['count', 'word'])"
   ]
  },
  {
   "cell_type": "code",
   "execution_count": 16,
   "metadata": {},
   "outputs": [
    {
     "data": {
      "text/plain": [
       "array([1, 2, 3])"
      ]
     },
     "execution_count": 16,
     "metadata": {},
     "output_type": "execute_result"
    }
   ],
   "source": [
    "a = np.array([1,2])\n",
    "np.append(a,3)"
   ]
  },
  {
   "cell_type": "code",
   "execution_count": 17,
   "metadata": {},
   "outputs": [],
   "source": [
    "n = 1000\n",
    "sparce = 2\n",
    "\n",
    "types_dict = dict()\n",
    "\n",
    "for i in range(0, n, sparce):\n",
    "    m = data.sample(n = i+1, weights=\"count\",replace=True, random_state=123)\n",
    "    types_dict[i+1] = len(set(m.word))"
   ]
  },
  {
   "cell_type": "code",
   "execution_count": 18,
   "metadata": {},
   "outputs": [
    {
     "data": {
      "text/plain": [
       "array([], dtype=float64)"
      ]
     },
     "execution_count": 18,
     "metadata": {},
     "output_type": "execute_result"
    }
   ],
   "source": [
    "n_words"
   ]
  },
  {
   "cell_type": "code",
   "execution_count": 9,
   "metadata": {},
   "outputs": [
    {
     "data": {
      "text/plain": [
       "{1: 1,\n",
       " 3: 3,\n",
       " 5: 5,\n",
       " 7: 7,\n",
       " 9: 9,\n",
       " 11: 11,\n",
       " 13: 13,\n",
       " 15: 15,\n",
       " 17: 17,\n",
       " 19: 19,\n",
       " 21: 20,\n",
       " 23: 22,\n",
       " 25: 24,\n",
       " 27: 26,\n",
       " 29: 28,\n",
       " 31: 30,\n",
       " 33: 31,\n",
       " 35: 32,\n",
       " 37: 33,\n",
       " 39: 35,\n",
       " 41: 37,\n",
       " 43: 38,\n",
       " 45: 40,\n",
       " 47: 42,\n",
       " 49: 44,\n",
       " 51: 46,\n",
       " 53: 48,\n",
       " 55: 49,\n",
       " 57: 50,\n",
       " 59: 51,\n",
       " 61: 53,\n",
       " 63: 55,\n",
       " 65: 57,\n",
       " 67: 59,\n",
       " 69: 61,\n",
       " 71: 63,\n",
       " 73: 65,\n",
       " 75: 67,\n",
       " 77: 68,\n",
       " 79: 70,\n",
       " 81: 71,\n",
       " 83: 72,\n",
       " 85: 74,\n",
       " 87: 76,\n",
       " 89: 78,\n",
       " 91: 80,\n",
       " 93: 81,\n",
       " 95: 81,\n",
       " 97: 83,\n",
       " 99: 85}"
      ]
     },
     "execution_count": 9,
     "metadata": {},
     "output_type": "execute_result"
    }
   ],
   "source": [
    "types_dict"
   ]
  },
  {
   "cell_type": "code",
   "execution_count": null,
   "metadata": {},
   "outputs": [],
   "source": [
    "curve_fit"
   ]
  },
  {
   "cell_type": "markdown",
   "metadata": {},
   "source": [
    "What best values of (a,b,c) and (k,beta) did you find? How did you find them -\n",
    "what method did you use?"
   ]
  }
 ],
 "metadata": {
  "kernelspec": {
   "display_name": ".venv",
   "language": "python",
   "name": "python3"
  },
  "language_info": {
   "codemirror_mode": {
    "name": "ipython",
    "version": 3
   },
   "file_extension": ".py",
   "mimetype": "text/x-python",
   "name": "python",
   "nbconvert_exporter": "python",
   "pygments_lexer": "ipython3",
   "version": "3.12.4"
  }
 },
 "nbformat": 4,
 "nbformat_minor": 2
}
